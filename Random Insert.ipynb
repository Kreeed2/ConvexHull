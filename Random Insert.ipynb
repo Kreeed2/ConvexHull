{
 "cells": [
  {
   "cell_type": "code",
   "execution_count": 1,
   "metadata": {},
   "outputs": [],
   "source": [
    "import numpy as np\n",
    "import matplotlib.pyplot as plt"
   ]
  },
  {
   "cell_type": "code",
   "execution_count": 2,
   "metadata": {},
   "outputs": [],
   "source": [
    "class Point:\n",
    "    def __init__(self, x = 0, y = 0):\n",
    "        self.x = x\n",
    "        self.y = y\n",
    "        self.next = None\n",
    "        self.prev = None\n",
    "\n",
    "    def __repr__(self):\n",
    "        return \"X:\" + str(self.x) + \" Y:\" + str(self.y) + \" Next:\" + str(self.next) + \" Prev:\" + str(self.prev)\n",
    "    \n",
    "    def toList(self):\n",
    "        return [self.x, self.y]"
   ]
  },
  {
   "cell_type": "code",
   "execution_count": 3,
   "metadata": {},
   "outputs": [],
   "source": [
    "class Edge:\n",
    "    def __init__(self, A = Point(), B = Point):\n",
    "        self.A = A\n",
    "        self.B = B\n",
    "        self.conflict = list()\n",
    "    \n",
    "    def __repr__(self):\n",
    "        return \"A:\" + str(self.A) + \"\\nB:\" + str(self.B) + \"\\nList:\" + str(self.conflict)"
   ]
  },
  {
   "cell_type": "code",
   "execution_count": 4,
   "metadata": {},
   "outputs": [],
   "source": [
    "def distance(a, b):\n",
    "    return np.sqrt(np.square(b.x - a.x) + np.square(b.y - a.y))"
   ]
  },
  {
   "cell_type": "code",
   "execution_count": 5,
   "metadata": {},
   "outputs": [],
   "source": [
    "def centerTriangle(a, b, c):\n",
    "    centerX = (a.x + b.x + c.x) / 3;\n",
    "    centerY = (a.y + b.y + c.y) / 3;\n",
    "    return Point(centerX, centerY)"
   ]
  },
  {
   "cell_type": "code",
   "execution_count": 6,
   "metadata": {},
   "outputs": [],
   "source": [
    "def lineIntersection(line1, line2):\n",
    "    def line(p1, p2):\n",
    "        A = (p1[1] - p2[1])\n",
    "        B = (p2[0] - p1[0])\n",
    "        C = (p1[0]*p2[1] - p2[0]*p1[1])\n",
    "        return A, B, -C\n",
    "    \n",
    "    L1 = line(line1.A.toList(), line1.B.toList())\n",
    "    L2 = line(line2.A.toList(), line2.B.toList())\n",
    "    \n",
    "    D  = L1[0] * L2[1] - L1[1] * L2[0]\n",
    "    Dx = L1[2] * L2[1] - L1[1] * L2[2]\n",
    "    Dy = L1[0] * L2[2] - L1[2] * L2[0]\n",
    "    if D != 0:\n",
    "        x = Dx / D\n",
    "        y = Dy / D\n",
    "        return Point(x,y)\n",
    "    else:\n",
    "        return False"
   ]
  },
  {
   "cell_type": "code",
   "execution_count": 28,
   "metadata": {},
   "outputs": [],
   "source": [
    "def findEdge(point, edges, center):\n",
    "    centerLine = Edge(point, center)\n",
    "    minDistance = 1000\n",
    "    minEdge = None\n",
    "    for edge in edges:\n",
    "        result = lineIntersection(edge, centerLine)\n",
    "        if result != False:\n",
    "            dist = distance(result, point)\n",
    "            if dist <  minDistance:\n",
    "                minDistance = dist\n",
    "                minEdge = edge\n",
    "    return minEdge"
   ]
  },
  {
   "cell_type": "code",
   "execution_count": 51,
   "metadata": {},
   "outputs": [],
   "source": [
    "def pointInTriangle(point, A, B, C):\n",
    "    v0 = C.toList() - A.toList()\n",
    "    v1 = B.toList() - A.toList()\n",
    "    v2 = point.toList() - A.toList()\n",
    "    \n",
    "    dot00 = np.dot(v0, v0)\n",
    "    dot01 = np.dot(v0, v1)\n",
    "    dot02 = np.dot(v0, v2)\n",
    "    dot11 = np.dot(v1, v1)\n",
    "    dot12 = np.dot(v1, v2)\n",
    "    \n",
    "    invDenom = 1 / (dot00 * dot11 - dot01 * dot01)\n",
    "    u = (dot11 * dot02 - dot01 * dot12) * invDenom\n",
    "    v = (dot00 * dot12 - dot01 * dot02) * invDenom\n",
    "    \n",
    "    return (u >= 0) and (v >= 0) and (u + v < 1)"
   ]
  },
  {
   "cell_type": "code",
   "execution_count": null,
   "metadata": {},
   "outputs": [],
   "source": []
  },
  {
   "cell_type": "code",
   "execution_count": 8,
   "metadata": {},
   "outputs": [],
   "source": [
    "def isLeftTurn(a,b,c):\n",
    "    return (b[0] - a[0]) * (c[1] - a[1]) - (b[1] - a[1]) * (c[0] - a[0]) > 0"
   ]
  },
  {
   "cell_type": "code",
   "execution_count": 9,
   "metadata": {},
   "outputs": [],
   "source": [
    "def sortXIndex(pts):    \n",
    "    return np.argsort(pts[:,0])"
   ]
  },
  {
   "cell_type": "code",
   "execution_count": 10,
   "metadata": {},
   "outputs": [],
   "source": [
    "def sweepHull(pts):\n",
    "    lst = [ Point(pts[i][0],pts[i][1]) for i in sortXIndex(pts) ] # nach X aufs. sortierte Liste mit SweepPoint Objeketen\n",
    "    lst[0].next = 1\n",
    "    lst[0].prev = 1\n",
    "    \n",
    "    lst[1].next = 0\n",
    "    lst[1].prev = 0 # Startbedingung, Zweipunktkonvexhülle\n",
    "    \n",
    "    for i in range(2, len(lst)):\n",
    "        if lst[i].y < lst[i-1].y:\n",
    "            lst[i].next = i-1\n",
    "            lst[i].prev = lst[i-1].prev\n",
    "        else:\n",
    "            lst[i].prev = i-1\n",
    "            lst[i].next = lst[i-1].next\n",
    "        \n",
    "        lst[lst[i].prev].next = i\n",
    "        lst[lst[i].next].prev = i\n",
    "        \n",
    "        while isLeftTurn(lst[i].toList(), lst[lst[i].prev].toList(), lst[lst[lst[i].prev].prev].toList()):\n",
    "            lst[lst[lst[i].prev].prev].next = i\n",
    "            lst[i].prev = lst[lst[i].prev].prev\n",
    "            \n",
    "        while isLeftTurn(lst[lst[lst[i].next].next].toList(), lst[lst[i].next].toList(), lst[i].toList()):\n",
    "            lst[lst[lst[i].next].next].prev = i\n",
    "            lst[i].next = lst[lst[i].next].next\n",
    "\n",
    "    out = [lst[0]]\n",
    "    while out[len(out) - 1].next != 0:\n",
    "        out.append(lst[out[len(out) - 1].next])\n",
    "    out.append(lst[out[len(out) - 1].next])\n",
    "    return [i.toList() for i in out]    "
   ]
  },
  {
   "cell_type": "code",
   "execution_count": 52,
   "metadata": {},
   "outputs": [],
   "source": [
    "pts = np.random.uniform(low=-4,high=4, size=(20,2))\n",
    "hull = np.array(sweepHull(pts))"
   ]
  },
  {
   "cell_type": "code",
   "execution_count": 53,
   "metadata": {},
   "outputs": [],
   "source": [
    "pts = np.append(pts, [[5,0]], axis=0)"
   ]
  },
  {
   "cell_type": "code",
   "execution_count": 54,
   "metadata": {},
   "outputs": [],
   "source": [
    "pts = [ Point(i[0], i[1]) for i in pts]"
   ]
  },
  {
   "cell_type": "code",
   "execution_count": 55,
   "metadata": {},
   "outputs": [],
   "source": [
    "center = centerTriangle(pts[0], pts[1], pts[2])"
   ]
  },
  {
   "cell_type": "code",
   "execution_count": 56,
   "metadata": {},
   "outputs": [
    {
     "name": "stdout",
     "output_type": "stream",
     "text": [
      "A:X:0.692423551091 Y:-3.928587923 Next:None Prev:None\n",
      "B:X:3.76256147718 Y:-2.79504732465 Next:None Prev:None\n",
      "List:[]\n"
     ]
    },
    {
     "ename": "AttributeError",
     "evalue": "'Edge' object has no attribute 'toList'",
     "output_type": "error",
     "traceback": [
      "\u001b[1;31m---------------------------------------------------------------------------\u001b[0m",
      "\u001b[1;31mAttributeError\u001b[0m                            Traceback (most recent call last)",
      "\u001b[1;32m<ipython-input-56-2da1d2187990>\u001b[0m in \u001b[0;36m<module>\u001b[1;34m()\u001b[0m\n\u001b[0;32m      4\u001b[0m \u001b[0mprint\u001b[0m\u001b[1;33m(\u001b[0m\u001b[0medge1\u001b[0m\u001b[1;33m)\u001b[0m\u001b[1;33m\u001b[0m\u001b[0m\n\u001b[0;32m      5\u001b[0m \u001b[1;33m\u001b[0m\u001b[0m\n\u001b[1;32m----> 6\u001b[1;33m \u001b[0mprint\u001b[0m\u001b[1;33m(\u001b[0m\u001b[0mpointInTriangle\u001b[0m\u001b[1;33m(\u001b[0m\u001b[0mPoint\u001b[0m\u001b[1;33m(\u001b[0m\u001b[1;33m)\u001b[0m\u001b[1;33m,\u001b[0m \u001b[0medges\u001b[0m\u001b[1;33m[\u001b[0m\u001b[1;36m0\u001b[0m\u001b[1;33m]\u001b[0m\u001b[1;33m,\u001b[0m \u001b[0medges\u001b[0m\u001b[1;33m[\u001b[0m\u001b[1;36m1\u001b[0m\u001b[1;33m]\u001b[0m\u001b[1;33m,\u001b[0m \u001b[0medges\u001b[0m\u001b[1;33m[\u001b[0m\u001b[1;36m2\u001b[0m\u001b[1;33m]\u001b[0m\u001b[1;33m)\u001b[0m\u001b[1;33m)\u001b[0m\u001b[1;33m\u001b[0m\u001b[0m\n\u001b[0m",
      "\u001b[1;32m<ipython-input-51-3fd66317453e>\u001b[0m in \u001b[0;36mpointInTriangle\u001b[1;34m(point, A, B, C)\u001b[0m\n\u001b[0;32m      1\u001b[0m \u001b[1;32mdef\u001b[0m \u001b[0mpointInTriangle\u001b[0m\u001b[1;33m(\u001b[0m\u001b[0mpoint\u001b[0m\u001b[1;33m,\u001b[0m \u001b[0mA\u001b[0m\u001b[1;33m,\u001b[0m \u001b[0mB\u001b[0m\u001b[1;33m,\u001b[0m \u001b[0mC\u001b[0m\u001b[1;33m)\u001b[0m\u001b[1;33m:\u001b[0m\u001b[1;33m\u001b[0m\u001b[0m\n\u001b[1;32m----> 2\u001b[1;33m     \u001b[0mv0\u001b[0m \u001b[1;33m=\u001b[0m \u001b[0mC\u001b[0m\u001b[1;33m.\u001b[0m\u001b[0mtoList\u001b[0m\u001b[1;33m(\u001b[0m\u001b[1;33m)\u001b[0m \u001b[1;33m-\u001b[0m \u001b[0mA\u001b[0m\u001b[1;33m.\u001b[0m\u001b[0mtoList\u001b[0m\u001b[1;33m(\u001b[0m\u001b[1;33m)\u001b[0m\u001b[1;33m\u001b[0m\u001b[0m\n\u001b[0m\u001b[0;32m      3\u001b[0m     \u001b[0mv1\u001b[0m \u001b[1;33m=\u001b[0m \u001b[0mB\u001b[0m\u001b[1;33m.\u001b[0m\u001b[0mtoList\u001b[0m\u001b[1;33m(\u001b[0m\u001b[1;33m)\u001b[0m \u001b[1;33m-\u001b[0m \u001b[0mA\u001b[0m\u001b[1;33m.\u001b[0m\u001b[0mtoList\u001b[0m\u001b[1;33m(\u001b[0m\u001b[1;33m)\u001b[0m\u001b[1;33m\u001b[0m\u001b[0m\n\u001b[0;32m      4\u001b[0m     \u001b[0mv2\u001b[0m \u001b[1;33m=\u001b[0m \u001b[0mpoint\u001b[0m\u001b[1;33m.\u001b[0m\u001b[0mtoList\u001b[0m\u001b[1;33m(\u001b[0m\u001b[1;33m)\u001b[0m \u001b[1;33m-\u001b[0m \u001b[0mA\u001b[0m\u001b[1;33m.\u001b[0m\u001b[0mtoList\u001b[0m\u001b[1;33m(\u001b[0m\u001b[1;33m)\u001b[0m\u001b[1;33m\u001b[0m\u001b[0m\n\u001b[0;32m      5\u001b[0m \u001b[1;33m\u001b[0m\u001b[0m\n",
      "\u001b[1;31mAttributeError\u001b[0m: 'Edge' object has no attribute 'toList'"
     ]
    }
   ],
   "source": [
    "edges = [ Edge( Point(hull[i][0], hull[i][1]) , Point(hull[i+1][0], hull[i+1][1])) for i in range(len(hull)-1) ]\n",
    "\n",
    "edge1 = findEdge(pts[5], edges, center)\n",
    "\n",
    "\n",
    "print(pointInTriangle(Point(),))"
   ]
  },
  {
   "cell_type": "code",
   "execution_count": 48,
   "metadata": {},
   "outputs": [],
   "source": [
    "pts = np.array([ i.toList() for i in pts ])"
   ]
  },
  {
   "cell_type": "code",
   "execution_count": 49,
   "metadata": {},
   "outputs": [
    {
     "data": {
      "image/png": "[encoded data removed]",
      "text/plain": [
       "<matplotlib.figure.Figure at 0x1f96eeab5f8>"
      ]
     },
     "metadata": {},
     "output_type": "display_data"
    }
   ],
   "source": [
    "plt.plot(pts[:,0], pts[:,1], 'o')\n",
    "plt.plot(hull[:,0], hull[:,1])\n",
    "plt.plot(center.x, center.y, 'o')\n",
    "plt.plot([edge1.A.x, edge1.B.x], [edge1.A.y, edge1.B.y])\n",
    "\n",
    "plt.show()"
   ]
  },
  {
   "cell_type": "code",
   "execution_count": null,
   "metadata": {},
   "outputs": [],
   "source": []
  }
 ],
 "metadata": {
  "kernelspec": {
   "display_name": "Python 3",
   "language": "python",
   "name": "python3"
  },
  "language_info": {
   "codemirror_mode": {
    "name": "ipython",
    "version": 3
   },
   "file_extension": ".py",
   "mimetype": "text/x-python",
   "name": "python",
   "nbconvert_exporter": "python",
   "pygments_lexer": "ipython3",
   "version": "3.6.3"
  }
 },
 "nbformat": 4,
 "nbformat_minor": 2
}
