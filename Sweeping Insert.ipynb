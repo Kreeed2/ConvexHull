{
 "cells": [
  {
   "cell_type": "markdown",
   "metadata": {
    "slideshow": {
     "slide_type": "slide"
    }
   },
   "source": [
    "# Incremental Insertion und Randomized Incremental Insertion\n",
    "## Tim Krampitz, Felix Roscher\n",
    "11.01.2019"
   ]
  },
  {
   "cell_type": "markdown",
   "metadata": {
    "slideshow": {
     "slide_type": "slide"
    }
   },
   "source": [
    "## Grundlagen"
   ]
  },
  {
   "cell_type": "code",
   "execution_count": 12,
   "metadata": {
    "slideshow": {
     "slide_type": "skip"
    }
   },
   "outputs": [],
   "source": [
    "import numpy as np\n",
    "import matplotlib.pyplot as plt"
   ]
  },
  {
   "cell_type": "markdown",
   "metadata": {
    "slideshow": {
     "slide_type": "subslide"
    }
   },
   "source": [
    "Drei Punkte machen eine Linksumdrehung, wenn ihre Determinate postiv ist\n",
    "$$ \\Delta(a,b,c) = \\begin{vmatrix} 1 & x_a & y_a  \\\\ 1 & x_b & y_b  \\\\ 1 & x_c & y_c  \\end{vmatrix} > 0$$"
   ]
  },
  {
   "cell_type": "code",
   "execution_count": 13,
   "metadata": {
    "slideshow": {
     "slide_type": "fragment"
    }
   },
   "outputs": [],
   "source": [
    "def isLeftTurn(a,b,c):\n",
    "    return (b[0] - a[0]) * (c[1] - a[1]) - (b[1] - a[1]) * (c[0] - a[0]) > 0"
   ]
  },
  {
   "cell_type": "code",
   "execution_count": 14,
   "metadata": {
    "slideshow": {
     "slide_type": "skip"
    }
   },
   "outputs": [],
   "source": [
    "def getAngle(anchor, point):\n",
    "    diff = point - anchor\n",
    "    return np.arctan2(diff[1], diff[0])"
   ]
  },
  {
   "cell_type": "code",
   "execution_count": 15,
   "metadata": {
    "slideshow": {
     "slide_type": "skip"
    }
   },
   "outputs": [],
   "source": [
    "def findAchorPointIndex(pts):\n",
    "    return np.argsort(pts[:,1])[0]"
   ]
  },
  {
   "cell_type": "code",
   "execution_count": 16,
   "metadata": {
    "slideshow": {
     "slide_type": "skip"
    }
   },
   "outputs": [],
   "source": [
    "def sortCCW(anchorIndex, pts):\n",
    "    lst = np.delete(pts, anchorIndex, axis=0)\n",
    "    \n",
    "    angles = [ getAngle(pts[anchorIndex], point) for point in lst ]\n",
    "    return lst[np.argsort(angles)]"
   ]
  },
  {
   "cell_type": "markdown",
   "metadata": {
    "slideshow": {
     "slide_type": "slide"
    }
   },
   "source": [
    "## Incremental Insertion (Sweeping)"
   ]
  },
  {
   "cell_type": "markdown",
   "metadata": {
    "slideshow": {
     "slide_type": "subslide"
    }
   },
   "source": [
    "## sweepHull"
   ]
  },
  {
   "cell_type": "markdown",
   "metadata": {
    "slideshow": {
     "slide_type": "fragment"
    }
   },
   "source": [
    "1. Sortiere die Punkte nach aufsteigender x-Koordinate"
   ]
  },
  {
   "cell_type": "markdown",
   "metadata": {
    "slideshow": {
     "slide_type": "fragment"
    }
   },
   "source": [
    "2. Initialisierung mit 1 . und 2 . Punkt als triviale konvexe Hülle"
   ]
  },
  {
   "cell_type": "markdown",
   "metadata": {
    "slideshow": {
     "slide_type": "fragment"
    }
   },
   "source": [
    "3. Hinzufügen des nächst linken Punktes \n",
    "   - Prüfen ob Y-Koordinate kleiner/größer als vorheriger Punkt für korrekte Reihenfolge\n",
    "   - Setzen des Vorgänger und Nachfolgers des neuen Punkts\n",
    "   - Hinzufügen des neuen Punkts als Nachfolger/Vorgänger der angrenzenden Punkte "
   ]
  },
  {
   "cell_type": "markdown",
   "metadata": {
    "slideshow": {
     "slide_type": "fragment"
    }
   },
   "source": [
    "4. Prüfen ob Vorgänger eine \"Linksdrehung\" darstellen"
   ]
  },
  {
   "cell_type": "markdown",
   "metadata": {
    "slideshow": {
     "slide_type": "fragment"
    }
   },
   "source": [
    "5. Analoge Prüfung Nachfolger auf \"Linksdrehung\""
   ]
  },
  {
   "cell_type": "code",
   "execution_count": 17,
   "metadata": {
    "slideshow": {
     "slide_type": "subslide"
    }
   },
   "outputs": [],
   "source": [
    "def sortXIndex(pts):    \n",
    "    return np.argsort(pts[:,0])"
   ]
  },
  {
   "cell_type": "code",
   "execution_count": 18,
   "metadata": {
    "slideshow": {
     "slide_type": "skip"
    }
   },
   "outputs": [],
   "source": [
    "def grahamScan(pts):\n",
    "    anchorIndex = findAchorPointIndex(pts)\n",
    "    anchor = pts[anchorIndex]\n",
    "    ptsCCW = sortCCW(anchorIndex, pts)\n",
    "    hull = np.empty((0,2))    \n",
    "    \n",
    "    for p in ptsCCW:\n",
    "        hull = np.vstack((hull, p))\n",
    "        while len(hull) >= 3:\n",
    "            i = len(hull) - 1\n",
    "            if not isLeftTurn(hull[i-2],hull[i-1],hull[i]):\n",
    "                hull = np.delete(hull, i-1, axis=0)\n",
    "            else:\n",
    "                break\n",
    "    hull = np.vstack((hull, anchor))\n",
    "    hull = np.insert(hull, 0 ,anchor, axis=0)\n",
    "    return hull"
   ]
  },
  {
   "cell_type": "code",
   "execution_count": 19,
   "metadata": {
    "slideshow": {
     "slide_type": "fragment"
    }
   },
   "outputs": [],
   "source": [
    "class SweepPoint:\n",
    "    def __init__(self, x = 0, y = 0):\n",
    "        self.x = x\n",
    "        self.y = y\n",
    "\n",
    "    def __repr__(self):\n",
    "        return \"X:\" + str(self.x) + \" Y:\" + str(self.y) + \" Next:\" + str(self.next) + \" Prev:\" + str(self.prev)\n",
    "    \n",
    "    def toList(self):\n",
    "        return [self.x, self.y]"
   ]
  },
  {
   "cell_type": "markdown",
   "metadata": {
    "slideshow": {
     "slide_type": "notes"
    }
   },
   "source": [
    "Klassendefinition eines Knotenpunktes mit Koordinaten, Nachfolger und Voränger\n",
    "\n",
    "toList(self): Schreibt Koordinaten als Punkt (x,y)"
   ]
  },
  {
   "cell_type": "code",
   "execution_count": 20,
   "metadata": {
    "slideshow": {
     "slide_type": "subslide"
    }
   },
   "outputs": [],
   "source": [
    "def sweepHull(pts):\n",
    "    lst = [ SweepPoint(pts[i][0],pts[i][1]) for i in sortXIndex(pts) ] # nach X aufs. sortierte Liste mit SweepPoint Objeketen\n",
    "    lst[0].next = 1\n",
    "    lst[0].prev = 1\n",
    "    \n",
    "    lst[1].next = 0\n",
    "    lst[1].prev = 0 # Startbedingung, Zweipunktkonvexhülle\n",
    "    \n",
    "    for i in range(2, len(lst)):\n",
    "        if lst[i].y < lst[i-1].y:\n",
    "            lst[i].next = i-1\n",
    "            lst[i].prev = lst[i-1].prev\n",
    "        else:\n",
    "            lst[i].prev = i-1\n",
    "            lst[i].next = lst[i-1].next\n",
    "        \n",
    "        lst[lst[i].prev].next = i\n",
    "        lst[lst[i].next].prev = i\n",
    "        \n",
    "        while isLeftTurn(lst[i].toList(), lst[lst[i].prev].toList(), lst[lst[lst[i].prev].prev].toList()):\n",
    "            lst[lst[lst[i].prev].prev].next = i\n",
    "            lst[i].prev = lst[lst[i].prev].prev\n",
    "            \n",
    "        while isLeftTurn(lst[lst[lst[i].next].next].toList(), lst[lst[i].next].toList(), lst[i].toList()):\n",
    "            lst[lst[lst[i].next].next].prev = i\n",
    "            lst[i].next = lst[lst[i].next].next\n",
    "\n",
    "    out = [lst[0]]\n",
    "    while out[len(out) - 1].next != 0:\n",
    "        out.append(lst[out[len(out) - 1].next])\n",
    "    out.append(lst[out[len(out) - 1].next])\n",
    "    return [i.toList() for i in out]            "
   ]
  },
  {
   "cell_type": "code",
   "execution_count": 21,
   "metadata": {
    "slideshow": {
     "slide_type": "subslide"
    }
   },
   "outputs": [
    {
     "data": {
      "image/png": "[encoded data removed]",
      "text/plain": [
       "<matplotlib.figure.Figure at 0x1d1e6adba58>"
      ]
     },
     "metadata": {},
     "output_type": "display_data"
    }
   ],
   "source": [
    "pts =  np.random.normal(size=(200,2))\n",
    "hull = np.array(sweepHull(pts))\n",
    "\n",
    "plt.plot(pts[:,0], pts[:,1], 'o')\n",
    "plt.plot(hull[:,0], hull[:,1])\n",
    "plt.show()\n"
   ]
  },
  {
   "cell_type": "markdown",
   "metadata": {
    "slideshow": {
     "slide_type": "subslide"
    }
   },
   "source": [
    "## Korrektheit\n",
    "   - nach jeder Iteration korrekte konvexe Hülle\n",
    "   - Hinzufügen eines neuen Punkts p:\n",
    "       - höhentechnisch zwischen zwei Punkten (korrekte, lineare Reihenfolge)\n",
    "       - wiederholte Prüfung auf Linksdrehung der Winkel mit den Vorgängerpunkten von p\n",
    "           - wenn Rechtsdrehung $\\rightarrow$ fertig\n",
    "           - wenn Linksdrehung $\\rightarrow$ Vorgänger wird entfernt, erneute Überprüfung mit neuen Vorgängern\n",
    "       - wiederholte Prüfung auf Linksdrehung der Winkel mit den Nachfolgerpunkten von p\n",
    "           - analoge Vorgehensweise"
   ]
  },
  {
   "cell_type": "markdown",
   "metadata": {
    "slideshow": {
     "slide_type": "subslide"
    }
   },
   "source": [
    "## Laufzeit\n",
    "   - Sortierung: $\\mathcal{O}(n*log(n))$\n",
    "   - Hinzufügen eines neuen Punktes: $\\mathcal{O}(n)$\n",
    "   - Gesamte Zeitkomplexität: $\\mathcal{O}(n*log(n))$ "
   ]
  },
  {
   "cell_type": "markdown",
   "metadata": {
    "slideshow": {
     "slide_type": "slide"
    }
   },
   "source": [
    "## Randomized Incremental Insertion"
   ]
  },
  {
   "cell_type": "markdown",
   "metadata": {
    "slideshow": {
     "slide_type": "subslide"
    }
   },
   "source": [
    "## Algorithmus"
   ]
  },
  {
   "cell_type": "markdown",
   "metadata": {
    "slideshow": {
     "slide_type": "fragment"
    }
   },
   "source": [
    "1. Wähle zufällig drei Punkte als Starthülle"
   ]
  },
  {
   "cell_type": "markdown",
   "metadata": {
    "slideshow": {
     "slide_type": "fragment"
    }
   },
   "source": [
    "2. Füge Pointer für alle Punkte e(p) und hinzu sowie conflictList der Kanten\n",
    "    - Prüfe ob innerhalb der dreieckigen Hülle $\\rightarrow e(p)=null$\n",
    "    - Finde nächste, sichbare Kante"
   ]
  },
  {
   "cell_type": "markdown",
   "metadata": {
    "slideshow": {
     "slide_type": "fragment"
    }
   },
   "source": [
    "3. Wähle zufälligen Punkt p mit $e(p) \\neq null$"
   ]
  },
  {
   "cell_type": "markdown",
   "metadata": {
    "slideshow": {
     "slide_type": "fragment"
    }
   },
   "source": [
    "4. Füge p der Hülle hinzu, zwischen die Eckpunkte von $e(p)$"
   ]
  },
  {
   "cell_type": "markdown",
   "metadata": {
    "slideshow": {
     "slide_type": "subslide"
    }
   },
   "source": [
    "5. Repariere polygon wie bei sweepHull Algorithmus\n",
    "    - Bei Entfernung von Kante k alle Punkte m mit $e(m)=k$ makieren sowie Eckpunkte von k"
   ]
  },
  {
   "cell_type": "markdown",
   "metadata": {
    "slideshow": {
     "slide_type": "fragment"
    }
   },
   "source": [
    "6. Ermittle Pointer aller markierten Punkte m erneut\n",
    "    - Punkt ist innerhalb des Dreiecks prev(p),p,next(p)\n",
    "        - $e(m) = null$\n",
    "        - Setzte neuen $e(m)$ auf neue sichtbare Kante (entweder $[prev(p),p]$ oder $[p,next(p)]$)"
   ]
  },
  {
   "cell_type": "markdown",
   "metadata": {
    "slideshow": {
     "slide_type": "fragment"
    }
   },
   "source": [
    "7. Gehe zu Schritt 3 bis kein Punkte mit Pointer mehr übrig ist"
   ]
  },
  {
   "cell_type": "markdown",
   "metadata": {
    "slideshow": {
     "slide_type": "subslide"
    }
   },
   "source": [
    "## Korrektheit und Laufzeit"
   ]
  },
  {
   "cell_type": "markdown",
   "metadata": {
    "slideshow": {
     "slide_type": "fragment"
    }
   },
   "source": [
    "* Korrektheit:\n",
    "    - Alle Punkte werden angefasst/betrachtet\n",
    "    - Nach jeder Iteration korrekte konvexe Hülle "
   ]
  },
  {
   "cell_type": "markdown",
   "metadata": {
    "slideshow": {
     "slide_type": "fragment"
    }
   },
   "source": [
    "* Laufzeit:\n",
    "    - Definiert durch\n",
    "        - Anzahl der Entfernungen von Hüllen- bzw Eckpunkten\n",
    "        - Anzahl der Änderungen der conflict pointer\n",
    "        - Beides Laufzeit von 1"
   ]
  },
  {
   "cell_type": "markdown",
   "metadata": {
    "slideshow": {
     "slide_type": "subslide"
    }
   },
   "source": [
    "- worst case\n",
    "    - Zeitkomplexität von $\\Omega (n^2) $\n",
    "    - Naiv: n Punkte, n-1 Pointerwechsel $\\rightarrow n^2$"
   ]
  },
  {
   "cell_type": "markdown",
   "metadata": {
    "slideshow": {
     "slide_type": "fragment"
    }
   },
   "source": [
    "- Zufall, erwartete Anzahl: $\\mathcal{O}(n*log (n)$\n",
    "    - beliebiges Paar von i, mit $e_i(p_j)$ also Einfügen von Punkt j nach bereits i eingefügten Punkten\n",
    "    - wenn $p_j$ schon eingefügt wurde bzw $p_j=null$\n",
    "    - $E[$Anzahl der conflict pointer Änderungen$]  \\leq \\sum_{i=1}^n \\sum_{j=1}^n Pr[ e_i(p_j) = e_{i-1}p_j]$"
   ]
  },
  {
   "cell_type": "markdown",
   "metadata": {
    "slideshow": {
     "slide_type": "subslide"
    }
   },
   "source": [
    "- Rückwärtsanalyse: Eine Entfernung ändert den Pointer nur wenn:"
   ]
  },
  {
   "cell_type": "markdown",
   "metadata": {
    "slideshow": {
     "slide_type": "fragment"
    }
   },
   "source": [
    "1. q war Teil der Hülle: q wurde entfernt"
   ]
  },
  {
   "cell_type": "markdown",
   "metadata": {
    "slideshow": {
     "slide_type": "fragment"
    }
   },
   "source": [
    "2. q war innerhalb der Hülle: q ist danach außerhalb"
   ]
  },
  {
   "cell_type": "markdown",
   "metadata": {
    "slideshow": {
     "slide_type": "fragment"
    }
   },
   "source": [
    "3. q war außerhalb der Hülle: Ein Eckpunkt von $e(q)$ wurde entfernt\n",
    "    - Fall $1$ und $2 \\leq n$\n",
    "    - Fall 3\n",
    "        - Wahrscheinlichkeit, dass Punkt i entfernt wird $\\frac{1}{i}$\n",
    "        - Wahrscheinlichkeit, dass ein Eckpunkt der Kante $e(i)$ entfernt wird $\\frac{2}{i}$\n",
    "        - $\\sum_{i=1}^n \\sum_{j=1}^n Pr[e_i(p_j) = e_{i-1}p_j] \\leq n + \\sum_{i=1}^n \\sum_{j=1}^n \\frac{2}{i}$\n",
    "    - $= n + 2nH_n = \\mathcal{O}(n log n)$"
   ]
  },
  {
   "cell_type": "markdown",
   "metadata": {
    "slideshow": {
     "slide_type": "subslide"
    }
   },
   "source": [
    "## Quellen\n",
    "\n",
    "Notizen von Jeff Erickson (caj)<br>\n",
    "http://www.faculty.jacobs-university.de/llinsen/teaching/320201/Lecture25.pdf\n",
    "\n",
    "### Vielen Dank für Eure Aufmerksamkeit"
   ]
  }
 ],
 "metadata": {
  "celltoolbar": "Slideshow",
  "kernelspec": {
   "display_name": "Python 3",
   "language": "python",
   "name": "python3"
  },
  "language_info": {
   "codemirror_mode": {
    "name": "ipython",
    "version": 3
   },
   "file_extension": ".py",
   "mimetype": "text/x-python",
   "name": "python",
   "nbconvert_exporter": "python",
   "pygments_lexer": "ipython3",
   "version": "3.6.3"
  },
  "livereveal": {
   "autolaunch": true
  }
 },
 "nbformat": 4,
 "nbformat_minor": 2
}
