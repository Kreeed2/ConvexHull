{
 "cells": [
  {
   "cell_type": "markdown",
   "metadata": {
    "slideshow": {
     "slide_type": "slide"
    }
   },
   "source": [
    "# Incremental Insertion und Randomized Incremental Insertion\n",
    "## Tim Krampitz, Felix Roscher\n",
    "11.01.2019"
   ]
  },
  {
   "cell_type": "markdown",
   "metadata": {
    "slideshow": {
     "slide_type": "slide"
    }
   },
   "source": [
    "## Grundlagen"
   ]
  },
  {
   "cell_type": "code",
   "execution_count": 1,
   "metadata": {
    "slideshow": {
     "slide_type": "skip"
    }
   },
   "outputs": [],
   "source": [
    "import numpy as np\n",
    "import matplotlib.pyplot as plt"
   ]
  },
  {
   "cell_type": "markdown",
   "metadata": {
    "slideshow": {
     "slide_type": "subslide"
    }
   },
   "source": [
    "Drei Punkte sind konvex, wenn ihre Determinate postiv ist\n",
    "$$ \\Delta(a,b,c) = \\begin{vmatrix} x_a & y_a & 1 \\\\ x_b & y_b & 1 \\\\ x_c & y_c & 1 \\end{vmatrix} > 0$$"
   ]
  },
  {
   "cell_type": "code",
   "execution_count": 2,
   "metadata": {
    "slideshow": {
     "slide_type": "-"
    }
   },
   "outputs": [],
   "source": [
    "def isLeftTurn(a,b,c):\n",
    "    return (b[0] - a[0]) * (c[1] - a[1]) - (b[1] - a[1]) * (c[0] - a[0]) > 0"
   ]
  },
  {
   "cell_type": "code",
   "execution_count": 3,
   "metadata": {
    "slideshow": {
     "slide_type": "skip"
    }
   },
   "outputs": [],
   "source": [
    "def getAngle(anchor, point):\n",
    "    diff = point - anchor\n",
    "    return np.arctan2(diff[1], diff[0])"
   ]
  },
  {
   "cell_type": "code",
   "execution_count": 4,
   "metadata": {
    "slideshow": {
     "slide_type": "skip"
    }
   },
   "outputs": [],
   "source": [
    "def findAchorPointIndex(pts):\n",
    "    return np.argsort(pts[:,1])[0]"
   ]
  },
  {
   "cell_type": "code",
   "execution_count": 5,
   "metadata": {
    "slideshow": {
     "slide_type": "skip"
    }
   },
   "outputs": [],
   "source": [
    "def sortCCW(anchorIndex, pts):\n",
    "    lst = np.delete(pts, anchorIndex, axis=0)\n",
    "    \n",
    "    angles = [ getAngle(pts[anchorIndex], point) for point in lst ]\n",
    "    return lst[np.argsort(angles)]"
   ]
  },
  {
   "cell_type": "markdown",
   "metadata": {
    "slideshow": {
     "slide_type": "slide"
    }
   },
   "source": [
    "## Incremental Insertion (Sweeping)"
   ]
  },
  {
   "cell_type": "code",
   "execution_count": 6,
   "metadata": {
    "slideshow": {
     "slide_type": "subslide"
    }
   },
   "outputs": [],
   "source": [
    "def sortXIndex(pts):    \n",
    "    return np.argsort(pts[:,0])"
   ]
  },
  {
   "cell_type": "code",
   "execution_count": 7,
   "metadata": {
    "slideshow": {
     "slide_type": "skip"
    }
   },
   "outputs": [],
   "source": [
    "def grahamScan(pts):\n",
    "    anchorIndex = findAchorPointIndex(pts)\n",
    "    anchor = pts[anchorIndex]\n",
    "    ptsCCW = sortCCW(anchorIndex, pts)\n",
    "    hull = np.empty((0,2))    \n",
    "    \n",
    "    for p in ptsCCW:\n",
    "        hull = np.vstack((hull, p))\n",
    "        while len(hull) >= 3:\n",
    "            i = len(hull) - 1\n",
    "            if not isLeftTurn(hull[i-2],hull[i-1],hull[i]):\n",
    "                hull = np.delete(hull, i-1, axis=0)\n",
    "            else:\n",
    "                break\n",
    "    hull = np.vstack((hull, anchor))\n",
    "    hull = np.insert(hull, 0 ,anchor, axis=0)\n",
    "    return hull"
   ]
  },
  {
   "cell_type": "markdown",
   "metadata": {
    "slideshow": {
     "slide_type": "notes"
    }
   },
   "source": [
    "Klassendefinition eines Knotenpunktes mit Koordinaten, Nachfolger und Voränger\n",
    "\n",
    "toList(self): Schreibt Koordinaten als Punkt (x,y)"
   ]
  },
  {
   "cell_type": "code",
   "execution_count": 8,
   "metadata": {
    "slideshow": {
     "slide_type": "-"
    }
   },
   "outputs": [],
   "source": [
    "class SweepPoint:\n",
    "    def __init__(self, x = 0, y = 0):\n",
    "        self.x = x\n",
    "        self.y = y\n",
    "\n",
    "    def __repr__(self):\n",
    "        return \"X:\" + str(self.x) + \" Y:\" + str(self.y) + \" Next:\" + str(self.next) + \" Prev:\" + str(self.prev)\n",
    "    \n",
    "    def toList(self):\n",
    "        return [self.x, self.y]"
   ]
  },
  {
   "cell_type": "markdown",
   "metadata": {
    "slideshow": {
     "slide_type": "subslide"
    }
   },
   "source": [
    "## sweepHull\n",
    "1. Initialisierung\n",
    "   - Punktobjekte\n",
    "   - 1. und 2. Punkt als triviale konvexe Hülle\n",
    "2. Hinzufügen des nächst linken Punktes (nächster in der Liste)\n",
    "   - Prüfen ob Y-Koordinate kleiner/größer als vorheriger Punkt für einfügen gegen den Uhrzeigersinn\n",
    "   - Setzen des Vorgänger und Nachfolgers des neuen Punkts\n",
    "   - Hinzufügen des neuen Punkts als Nachfolger/Vorgänger der angrenzenden Punkte (dazwischen schieben)\n",
    "3. Prüfen ob Vorgänger eine \"Linksdrehung\" darstellen\n",
    "   - Ja $\\rightarrow$ Mittelpunkt entfernen\n",
    "   - Nein $\\rightarrow$ Nichts tun\n",
    "4. Analoge Prüfung Nachfolger auf \"Linksdrehung\"\n"
   ]
  },
  {
   "cell_type": "code",
   "execution_count": 9,
   "metadata": {
    "slideshow": {
     "slide_type": "subslide"
    }
   },
   "outputs": [],
   "source": [
    "def sweepHull(pts):\n",
    "    lst = [ SweepPoint(pts[i][0],pts[i][1]) for i in sortXIndex(pts) ] # nach X aufs. sortierte Liste mit SweepPoint Objeketen\n",
    "    lst[0].next = 1\n",
    "    lst[0].prev = 1\n",
    "    \n",
    "    lst[1].next = 0\n",
    "    lst[1].prev = 0 # Startbedingung, Zweipunktkonvexhülle\n",
    "    \n",
    "    for i in range(2, len(lst)):\n",
    "        if lst[i].y < lst[i-1].y:\n",
    "            lst[i].next = i-1\n",
    "            lst[i].prev = lst[i-1].prev\n",
    "        else:\n",
    "            lst[i].prev = i-1\n",
    "            lst[i].next = lst[i-1].next\n",
    "        \n",
    "        lst[lst[i].prev].next = i\n",
    "        lst[lst[i].next].prev = i\n",
    "        \n",
    "        while isLeftTurn(lst[i].toList(), lst[lst[i].prev].toList(), lst[lst[lst[i].prev].prev].toList()):\n",
    "            lst[lst[lst[i].prev].prev].next = i\n",
    "            lst[i].prev = lst[lst[i].prev].prev\n",
    "            \n",
    "        while isLeftTurn(lst[lst[lst[i].next].next].toList(), lst[lst[i].next].toList(), lst[i].toList()):\n",
    "            lst[lst[lst[i].next].next].prev = i\n",
    "            lst[i].next = lst[lst[i].next].next\n",
    "\n",
    "    out = [lst[0]]\n",
    "    while out[len(out) - 1].next != 0:\n",
    "        out.append(lst[out[len(out) - 1].next])\n",
    "    out.append(lst[out[len(out) - 1].next])\n",
    "    return [i.toList() for i in out]            "
   ]
  },
  {
   "cell_type": "code",
   "execution_count": 19,
   "metadata": {
    "slideshow": {
     "slide_type": "subslide"
    }
   },
   "outputs": [
    {
     "data": {
      "image/png": "[encoded data removed]",
      "text/plain": [
       "<matplotlib.figure.Figure at 0x1f7d87ead30>"
      ]
     },
     "metadata": {},
     "output_type": "display_data"
    }
   ],
   "source": [
    "pts =  np.random.uniform(low=-4,high=4, size=(200,2))\n",
    "hull = np.array(sweepHull(pts))\n",
    "\n",
    "plt.plot(pts[:,0], pts[:,1], 'o')\n",
    "plt.plot(hull[:,0], hull[:,1])\n",
    "plt.show()\n"
   ]
  },
  {
   "cell_type": "markdown",
   "metadata": {
    "slideshow": {
     "slide_type": "slide"
    }
   },
   "source": [
    "## Randomized Incremental Insertion"
   ]
  },
  {
   "cell_type": "markdown",
   "metadata": {
    "slideshow": {
     "slide_type": "subslide"
    }
   },
   "source": [
    "### Algorithmus\n",
    "\n",
    "* Aufbauend auf Incremental Insertion, hinzufügen der Punkte zufällig\n",
    "* Punkte haben Pointer zu **irgend einer** sichtbarer Kante\n",
    "* Hinzufügen des nächsten Punkts:\n",
    "    - Innerhalb der Hülle: darstellen und Null-Pointer\n",
    "    - Außerhalb der Hülle: wie bei Incremental Insertion mit analoger \"Hüllenreperatur\""
   ]
  },
  {
   "cell_type": "code",
   "execution_count": null,
   "metadata": {
    "slideshow": {
     "slide_type": "-"
    }
   },
   "outputs": [],
   "source": [
    "pts[] = Punktemenge\n",
    "    lst[0].next = 1\n",
    "    lst[0].prev = 2\n",
    "    \n",
    "    lst[1].next = 2\n",
    "    lst[1].prev = 0 \n",
    "    \n",
    "    lst[2].next = 0\n",
    "    lst[2].prev = 1\n",
    "    sort lst CCW  #initiale 3-Punkt-Hülle\n",
    "    set Pointers and conflictList  #Pointer der Punkte und Liste pro Kante mit daraufzeigenden Punkten\n",
    "\n",
    "for i in range(3, len(pts))\n",
    "    if i notin Hull:\n",
    "        remove conflictEdge #Kante auf welche der Punkt zeigt\n",
    "        connect Point with endpoints of conflictEdge\n",
    "        repair Hull and mark Points with removed conflictEdge\n",
    "        set Pointer of marked Points\n",
    "            if inside formed triangle: #i with neightbors of polygon\n",
    "                pointer = None\n",
    "            else:\n",
    "                pointer on visible new edge #one of two     \n",
    "        \n"
   ]
  },
  {
   "cell_type": "markdown",
   "metadata": {},
   "source": [
    "## Korrektheit und Laufzeit\n",
    "* Korrektheit: Fallunterscheidung zum Hinzufügen von Punkten:\n",
    "    1. Innerhalb bestehender Hülle\n",
    "    2. Außerhalb bestehender Hülle\n",
    "\n",
    "* Laufzeit:\n",
    "    * "
   ]
  },
  {
   "cell_type": "markdown",
   "metadata": {
    "slideshow": {
     "slide_type": "subslide"
    }
   },
   "source": [
    "## Quellen\n",
    "\n",
    "http://www.faculty.jacobs-university.de/llinsen/teaching/320201/Lecture25.pdf"
   ]
  }
 ],
 "metadata": {
  "celltoolbar": "Slideshow",
  "kernelspec": {
   "display_name": "Python 3",
   "language": "python",
   "name": "python3"
  },
  "language_info": {
   "codemirror_mode": {
    "name": "ipython",
    "version": 3
   },
   "file_extension": ".py",
   "mimetype": "text/x-python",
   "name": "python",
   "nbconvert_exporter": "python",
   "pygments_lexer": "ipython3",
   "version": "3.6.3"
  }
 },
 "nbformat": 4,
 "nbformat_minor": 2
}
